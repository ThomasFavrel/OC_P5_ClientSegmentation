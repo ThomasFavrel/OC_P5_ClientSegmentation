{
 "cells": [
  {
   "cell_type": "code",
   "execution_count": 1,
   "metadata": {},
   "outputs": [],
   "source": [
    "import numpy as np\n",
    "import pandas as pd"
   ]
  },
  {
   "cell_type": "code",
   "execution_count": 6,
   "metadata": {},
   "outputs": [],
   "source": [
    "path = r'E:\\t\\Cours Open Classeroom\\DATA SCIENCE\\Projet 5\\Data\\\\'"
   ]
  },
  {
   "cell_type": "code",
   "execution_count": 9,
   "metadata": {},
   "outputs": [],
   "source": [
    "customers = pd.read_csv(path + 'olist_customers_dataset.csv')\n",
    "geolocation = pd.read_csv(path + 'olist_geolocation_dataset.csv')\n",
    "order_items = pd.read_csv(path + 'olist_order_items_dataset.csv')\n",
    "order_payments = pd.read_csv(path + 'olist_order_payments_dataset.csv')\n",
    "order_reviews = pd.read_csv(path + 'olist_order_reviews_dataset.csv')\n",
    "orders = pd.read_csv(path + 'olist_orders_dataset.csv')\n",
    "products = pd.read_csv(path + 'olist_products_dataset.csv')\n",
    "sellers = pd.read_csv(path + 'olist_sellers_dataset.csv')\n",
    "product_category_name_translation = pd.read_csv(path + 'product_category_name_translation.csv')"
   ]
  },
  {
   "cell_type": "code",
   "execution_count": 12,
   "metadata": {},
   "outputs": [
    {
     "data": {
      "text/html": [
       "<style  type=\"text/css\" >\n",
       "#T_aff58612_663b_11eb_bf8f_c85b76fec396row0_col1,#T_aff58612_663b_11eb_bf8f_c85b76fec396row2_col1,#T_aff58612_663b_11eb_bf8f_c85b76fec396row4_col1,#T_aff58612_663b_11eb_bf8f_c85b76fec396row5_col1{\n",
       "            background-color:  #f0eaf4;\n",
       "            color:  #000000;\n",
       "        }#T_aff58612_663b_11eb_bf8f_c85b76fec396row0_col2,#T_aff58612_663b_11eb_bf8f_c85b76fec396row1_col2,#T_aff58612_663b_11eb_bf8f_c85b76fec396row4_col2{\n",
       "            background-color:  #91b5d6;\n",
       "            color:  #000000;\n",
       "        }#T_aff58612_663b_11eb_bf8f_c85b76fec396row0_col3,#T_aff58612_663b_11eb_bf8f_c85b76fec396row0_col4,#T_aff58612_663b_11eb_bf8f_c85b76fec396row1_col3,#T_aff58612_663b_11eb_bf8f_c85b76fec396row1_col4,#T_aff58612_663b_11eb_bf8f_c85b76fec396row3_col3,#T_aff58612_663b_11eb_bf8f_c85b76fec396row3_col4,#T_aff58612_663b_11eb_bf8f_c85b76fec396row4_col3,#T_aff58612_663b_11eb_bf8f_c85b76fec396row4_col4,#T_aff58612_663b_11eb_bf8f_c85b76fec396row7_col1,#T_aff58612_663b_11eb_bf8f_c85b76fec396row7_col3,#T_aff58612_663b_11eb_bf8f_c85b76fec396row7_col4,#T_aff58612_663b_11eb_bf8f_c85b76fec396row8_col1,#T_aff58612_663b_11eb_bf8f_c85b76fec396row8_col2,#T_aff58612_663b_11eb_bf8f_c85b76fec396row8_col3,#T_aff58612_663b_11eb_bf8f_c85b76fec396row8_col4{\n",
       "            background-color:  #fff7fb;\n",
       "            color:  #000000;\n",
       "        }#T_aff58612_663b_11eb_bf8f_c85b76fec396row1_col1,#T_aff58612_663b_11eb_bf8f_c85b76fec396row5_col3,#T_aff58612_663b_11eb_bf8f_c85b76fec396row6_col2,#T_aff58612_663b_11eb_bf8f_c85b76fec396row6_col4{\n",
       "            background-color:  #023858;\n",
       "            color:  #f1f1f1;\n",
       "        }#T_aff58612_663b_11eb_bf8f_c85b76fec396row2_col2{\n",
       "            background-color:  #045d92;\n",
       "            color:  #f1f1f1;\n",
       "        }#T_aff58612_663b_11eb_bf8f_c85b76fec396row2_col3,#T_aff58612_663b_11eb_bf8f_c85b76fec396row6_col1{\n",
       "            background-color:  #faf3f9;\n",
       "            color:  #000000;\n",
       "        }#T_aff58612_663b_11eb_bf8f_c85b76fec396row2_col4{\n",
       "            background-color:  #a5bddb;\n",
       "            color:  #000000;\n",
       "        }#T_aff58612_663b_11eb_bf8f_c85b76fec396row3_col1{\n",
       "            background-color:  #eee9f3;\n",
       "            color:  #000000;\n",
       "        }#T_aff58612_663b_11eb_bf8f_c85b76fec396row3_col2,#T_aff58612_663b_11eb_bf8f_c85b76fec396row5_col2{\n",
       "            background-color:  #1379b5;\n",
       "            color:  #f1f1f1;\n",
       "        }#T_aff58612_663b_11eb_bf8f_c85b76fec396row5_col4{\n",
       "            background-color:  #d0d1e6;\n",
       "            color:  #000000;\n",
       "        }#T_aff58612_663b_11eb_bf8f_c85b76fec396row6_col3{\n",
       "            background-color:  #fdf5fa;\n",
       "            color:  #000000;\n",
       "        }#T_aff58612_663b_11eb_bf8f_c85b76fec396row7_col2{\n",
       "            background-color:  #c4cbe3;\n",
       "            color:  #000000;\n",
       "        }</style><table id=\"T_aff58612_663b_11eb_bf8f_c85b76fec396\" ><thead>    <tr>        <th class=\"blank level0\" ></th>        <th class=\"col_heading level0 col0\" >dataset</th>        <th class=\"col_heading level0 col1\" >n_rows</th>        <th class=\"col_heading level0 col2\" >n_cols</th>        <th class=\"col_heading level0 col3\" >null_amount</th>        <th class=\"col_heading level0 col4\" >qty_null_columns</th>        <th class=\"col_heading level0 col5\" >null_columns</th>    </tr></thead><tbody>\n",
       "                <tr>\n",
       "                        <th id=\"T_aff58612_663b_11eb_bf8f_c85b76fec396level0_row0\" class=\"row_heading level0 row0\" >0</th>\n",
       "                        <td id=\"T_aff58612_663b_11eb_bf8f_c85b76fec396row0_col0\" class=\"data row0 col0\" >olist_customer</td>\n",
       "                        <td id=\"T_aff58612_663b_11eb_bf8f_c85b76fec396row0_col1\" class=\"data row0 col1\" >99441</td>\n",
       "                        <td id=\"T_aff58612_663b_11eb_bf8f_c85b76fec396row0_col2\" class=\"data row0 col2\" >5</td>\n",
       "                        <td id=\"T_aff58612_663b_11eb_bf8f_c85b76fec396row0_col3\" class=\"data row0 col3\" >0</td>\n",
       "                        <td id=\"T_aff58612_663b_11eb_bf8f_c85b76fec396row0_col4\" class=\"data row0 col4\" >0</td>\n",
       "                        <td id=\"T_aff58612_663b_11eb_bf8f_c85b76fec396row0_col5\" class=\"data row0 col5\" ></td>\n",
       "            </tr>\n",
       "            <tr>\n",
       "                        <th id=\"T_aff58612_663b_11eb_bf8f_c85b76fec396level0_row1\" class=\"row_heading level0 row1\" >1</th>\n",
       "                        <td id=\"T_aff58612_663b_11eb_bf8f_c85b76fec396row1_col0\" class=\"data row1 col0\" >olist_geolocation</td>\n",
       "                        <td id=\"T_aff58612_663b_11eb_bf8f_c85b76fec396row1_col1\" class=\"data row1 col1\" >1000163</td>\n",
       "                        <td id=\"T_aff58612_663b_11eb_bf8f_c85b76fec396row1_col2\" class=\"data row1 col2\" >5</td>\n",
       "                        <td id=\"T_aff58612_663b_11eb_bf8f_c85b76fec396row1_col3\" class=\"data row1 col3\" >0</td>\n",
       "                        <td id=\"T_aff58612_663b_11eb_bf8f_c85b76fec396row1_col4\" class=\"data row1 col4\" >0</td>\n",
       "                        <td id=\"T_aff58612_663b_11eb_bf8f_c85b76fec396row1_col5\" class=\"data row1 col5\" ></td>\n",
       "            </tr>\n",
       "            <tr>\n",
       "                        <th id=\"T_aff58612_663b_11eb_bf8f_c85b76fec396level0_row2\" class=\"row_heading level0 row2\" >2</th>\n",
       "                        <td id=\"T_aff58612_663b_11eb_bf8f_c85b76fec396row2_col0\" class=\"data row2 col0\" >olist_orders</td>\n",
       "                        <td id=\"T_aff58612_663b_11eb_bf8f_c85b76fec396row2_col1\" class=\"data row2 col1\" >99441</td>\n",
       "                        <td id=\"T_aff58612_663b_11eb_bf8f_c85b76fec396row2_col2\" class=\"data row2 col2\" >8</td>\n",
       "                        <td id=\"T_aff58612_663b_11eb_bf8f_c85b76fec396row2_col3\" class=\"data row2 col3\" >4908</td>\n",
       "                        <td id=\"T_aff58612_663b_11eb_bf8f_c85b76fec396row2_col4\" class=\"data row2 col4\" >3</td>\n",
       "                        <td id=\"T_aff58612_663b_11eb_bf8f_c85b76fec396row2_col5\" class=\"data row2 col5\" >order_approved_at, order_delivered_carrier_date, order_delivered_customer_date</td>\n",
       "            </tr>\n",
       "            <tr>\n",
       "                        <th id=\"T_aff58612_663b_11eb_bf8f_c85b76fec396level0_row3\" class=\"row_heading level0 row3\" >3</th>\n",
       "                        <td id=\"T_aff58612_663b_11eb_bf8f_c85b76fec396row3_col0\" class=\"data row3 col0\" >olist_order_items</td>\n",
       "                        <td id=\"T_aff58612_663b_11eb_bf8f_c85b76fec396row3_col1\" class=\"data row3 col1\" >112650</td>\n",
       "                        <td id=\"T_aff58612_663b_11eb_bf8f_c85b76fec396row3_col2\" class=\"data row3 col2\" >7</td>\n",
       "                        <td id=\"T_aff58612_663b_11eb_bf8f_c85b76fec396row3_col3\" class=\"data row3 col3\" >0</td>\n",
       "                        <td id=\"T_aff58612_663b_11eb_bf8f_c85b76fec396row3_col4\" class=\"data row3 col4\" >0</td>\n",
       "                        <td id=\"T_aff58612_663b_11eb_bf8f_c85b76fec396row3_col5\" class=\"data row3 col5\" ></td>\n",
       "            </tr>\n",
       "            <tr>\n",
       "                        <th id=\"T_aff58612_663b_11eb_bf8f_c85b76fec396level0_row4\" class=\"row_heading level0 row4\" >4</th>\n",
       "                        <td id=\"T_aff58612_663b_11eb_bf8f_c85b76fec396row4_col0\" class=\"data row4 col0\" >olist_order_payments</td>\n",
       "                        <td id=\"T_aff58612_663b_11eb_bf8f_c85b76fec396row4_col1\" class=\"data row4 col1\" >103886</td>\n",
       "                        <td id=\"T_aff58612_663b_11eb_bf8f_c85b76fec396row4_col2\" class=\"data row4 col2\" >5</td>\n",
       "                        <td id=\"T_aff58612_663b_11eb_bf8f_c85b76fec396row4_col3\" class=\"data row4 col3\" >0</td>\n",
       "                        <td id=\"T_aff58612_663b_11eb_bf8f_c85b76fec396row4_col4\" class=\"data row4 col4\" >0</td>\n",
       "                        <td id=\"T_aff58612_663b_11eb_bf8f_c85b76fec396row4_col5\" class=\"data row4 col5\" ></td>\n",
       "            </tr>\n",
       "            <tr>\n",
       "                        <th id=\"T_aff58612_663b_11eb_bf8f_c85b76fec396level0_row5\" class=\"row_heading level0 row5\" >5</th>\n",
       "                        <td id=\"T_aff58612_663b_11eb_bf8f_c85b76fec396row5_col0\" class=\"data row5 col0\" >olist_order_reviews</td>\n",
       "                        <td id=\"T_aff58612_663b_11eb_bf8f_c85b76fec396row5_col1\" class=\"data row5 col1\" >100000</td>\n",
       "                        <td id=\"T_aff58612_663b_11eb_bf8f_c85b76fec396row5_col2\" class=\"data row5 col2\" >7</td>\n",
       "                        <td id=\"T_aff58612_663b_11eb_bf8f_c85b76fec396row5_col3\" class=\"data row5 col3\" >146532</td>\n",
       "                        <td id=\"T_aff58612_663b_11eb_bf8f_c85b76fec396row5_col4\" class=\"data row5 col4\" >2</td>\n",
       "                        <td id=\"T_aff58612_663b_11eb_bf8f_c85b76fec396row5_col5\" class=\"data row5 col5\" >review_comment_title, review_comment_message</td>\n",
       "            </tr>\n",
       "            <tr>\n",
       "                        <th id=\"T_aff58612_663b_11eb_bf8f_c85b76fec396level0_row6\" class=\"row_heading level0 row6\" >6</th>\n",
       "                        <td id=\"T_aff58612_663b_11eb_bf8f_c85b76fec396row6_col0\" class=\"data row6 col0\" >olist_products</td>\n",
       "                        <td id=\"T_aff58612_663b_11eb_bf8f_c85b76fec396row6_col1\" class=\"data row6 col1\" >32951</td>\n",
       "                        <td id=\"T_aff58612_663b_11eb_bf8f_c85b76fec396row6_col2\" class=\"data row6 col2\" >9</td>\n",
       "                        <td id=\"T_aff58612_663b_11eb_bf8f_c85b76fec396row6_col3\" class=\"data row6 col3\" >2448</td>\n",
       "                        <td id=\"T_aff58612_663b_11eb_bf8f_c85b76fec396row6_col4\" class=\"data row6 col4\" >8</td>\n",
       "                        <td id=\"T_aff58612_663b_11eb_bf8f_c85b76fec396row6_col5\" class=\"data row6 col5\" >product_category_name, product_name_lenght, product_description_lenght, product_photos_qty, product_weight_g, product_length_cm, product_height_cm, product_width_cm</td>\n",
       "            </tr>\n",
       "            <tr>\n",
       "                        <th id=\"T_aff58612_663b_11eb_bf8f_c85b76fec396level0_row7\" class=\"row_heading level0 row7\" >7</th>\n",
       "                        <td id=\"T_aff58612_663b_11eb_bf8f_c85b76fec396row7_col0\" class=\"data row7 col0\" >olist_sellers</td>\n",
       "                        <td id=\"T_aff58612_663b_11eb_bf8f_c85b76fec396row7_col1\" class=\"data row7 col1\" >3095</td>\n",
       "                        <td id=\"T_aff58612_663b_11eb_bf8f_c85b76fec396row7_col2\" class=\"data row7 col2\" >4</td>\n",
       "                        <td id=\"T_aff58612_663b_11eb_bf8f_c85b76fec396row7_col3\" class=\"data row7 col3\" >0</td>\n",
       "                        <td id=\"T_aff58612_663b_11eb_bf8f_c85b76fec396row7_col4\" class=\"data row7 col4\" >0</td>\n",
       "                        <td id=\"T_aff58612_663b_11eb_bf8f_c85b76fec396row7_col5\" class=\"data row7 col5\" ></td>\n",
       "            </tr>\n",
       "            <tr>\n",
       "                        <th id=\"T_aff58612_663b_11eb_bf8f_c85b76fec396level0_row8\" class=\"row_heading level0 row8\" >8</th>\n",
       "                        <td id=\"T_aff58612_663b_11eb_bf8f_c85b76fec396row8_col0\" class=\"data row8 col0\" >product_category_name_translation</td>\n",
       "                        <td id=\"T_aff58612_663b_11eb_bf8f_c85b76fec396row8_col1\" class=\"data row8 col1\" >71</td>\n",
       "                        <td id=\"T_aff58612_663b_11eb_bf8f_c85b76fec396row8_col2\" class=\"data row8 col2\" >2</td>\n",
       "                        <td id=\"T_aff58612_663b_11eb_bf8f_c85b76fec396row8_col3\" class=\"data row8 col3\" >0</td>\n",
       "                        <td id=\"T_aff58612_663b_11eb_bf8f_c85b76fec396row8_col4\" class=\"data row8 col4\" >0</td>\n",
       "                        <td id=\"T_aff58612_663b_11eb_bf8f_c85b76fec396row8_col5\" class=\"data row8 col5\" ></td>\n",
       "            </tr>\n",
       "    </tbody></table>"
      ],
      "text/plain": [
       "<pandas.io.formats.style.Styler at 0x26fba05c348>"
      ]
     },
     "execution_count": 12,
     "metadata": {},
     "output_type": "execute_result"
    }
   ],
   "source": [
    "# Collections for each dataset\n",
    "datasets = [customers, geolocation, orders, order_items, order_payments,\n",
    "            order_reviews, products, sellers, product_category_name_translation]\n",
    "names = ['olist_customer', 'olist_geolocation', 'olist_orders', 'olist_order_items', 'olist_order_payments',\n",
    "         'olist_order_reviews', 'olist_products', 'olist_sellers', 'product_category_name_translation']\n",
    "\n",
    "# Creating a DataFrame with useful information about all datasets\n",
    "data_info = pd.DataFrame({})\n",
    "data_info['dataset'] = names\n",
    "data_info['n_rows'] = [df.shape[0] for df in datasets]\n",
    "data_info['n_cols'] = [df.shape[1] for df in datasets]\n",
    "data_info['null_amount'] = [df.isnull().sum().sum() for df in datasets]\n",
    "data_info['qty_null_columns'] = [len([col for col, null in df.isnull().sum().items() if null > 0]) for df in datasets]\n",
    "data_info['null_columns'] = [', '.join([col for col, null in df.isnull().sum().items() if null > 0]) for df in datasets]\n",
    "\n",
    "data_info.style.background_gradient()"
   ]
  },
  {
   "cell_type": "code",
   "execution_count": 13,
   "metadata": {},
   "outputs": [
    {
     "ename": "NameError",
     "evalue": "name 'data_overview' is not defined",
     "output_type": "error",
     "traceback": [
      "\u001b[1;31m---------------------------------------------------------------------------\u001b[0m",
      "\u001b[1;31mNameError\u001b[0m                                 Traceback (most recent call last)",
      "\u001b[1;32m<ipython-input-13-f994a9b3c263>\u001b[0m in \u001b[0;36m<module>\u001b[1;34m\u001b[0m\n\u001b[0;32m      3\u001b[0m \u001b[1;32mfor\u001b[0m \u001b[0mname\u001b[0m\u001b[1;33m,\u001b[0m \u001b[0mdf\u001b[0m \u001b[1;32min\u001b[0m \u001b[0mzip\u001b[0m\u001b[1;33m(\u001b[0m\u001b[0mnames\u001b[0m\u001b[1;33m,\u001b[0m \u001b[0mdatasets\u001b[0m\u001b[1;33m)\u001b[0m\u001b[1;33m:\u001b[0m\u001b[1;33m\u001b[0m\u001b[1;33m\u001b[0m\u001b[0m\n\u001b[0;32m      4\u001b[0m     \u001b[0mname_col\u001b[0m \u001b[1;33m+=\u001b[0m \u001b[1;33m[\u001b[0m\u001b[0mname\u001b[0m\u001b[1;33m]\u001b[0m \u001b[1;33m*\u001b[0m \u001b[0mdf\u001b[0m\u001b[1;33m.\u001b[0m\u001b[0mshape\u001b[0m\u001b[1;33m[\u001b[0m\u001b[1;36m1\u001b[0m\u001b[1;33m]\u001b[0m\u001b[1;33m\u001b[0m\u001b[1;33m\u001b[0m\u001b[0m\n\u001b[1;32m----> 5\u001b[1;33m     \u001b[0mdf_overview\u001b[0m \u001b[1;33m=\u001b[0m \u001b[0mdf_overview\u001b[0m\u001b[1;33m.\u001b[0m\u001b[0mappend\u001b[0m\u001b[1;33m(\u001b[0m\u001b[0mdata_overview\u001b[0m\u001b[1;33m(\u001b[0m\u001b[0mdf\u001b[0m\u001b[1;33m)\u001b[0m\u001b[1;33m)\u001b[0m\u001b[1;33m\u001b[0m\u001b[1;33m\u001b[0m\u001b[0m\n\u001b[0m\u001b[0;32m      6\u001b[0m     \u001b[0mdf_overview\u001b[0m\u001b[1;33m[\u001b[0m\u001b[1;34m'dataset_name'\u001b[0m\u001b[1;33m]\u001b[0m \u001b[1;33m=\u001b[0m \u001b[0mname_col\u001b[0m\u001b[1;33m\u001b[0m\u001b[1;33m\u001b[0m\u001b[0m\n\u001b[0;32m      7\u001b[0m \u001b[1;33m\u001b[0m\u001b[0m\n",
      "\u001b[1;31mNameError\u001b[0m: name 'data_overview' is not defined"
     ]
    }
   ],
   "source": [
    "df_overview = pd.DataFrame({})\n",
    "name_col = []\n",
    "for name, df in zip(names, datasets):\n",
    "    name_col += [name] * df.shape[1]\n",
    "    df_overview = df_overview.append(data_overview(df))\n",
    "    df_overview['dataset_name'] = name_col\n",
    "\n",
    "df_overview = df_overview.loc[:, ['dataset_name', 'feature', 'qtd_null', 'percent_null', 'dtype', 'qtd_cat']]\n",
    "df_overview"
   ]
  },
  {
   "cell_type": "code",
   "execution_count": null,
   "metadata": {},
   "outputs": [],
   "source": []
  }
 ],
 "metadata": {
  "kernelspec": {
   "display_name": "Python 3",
   "language": "python",
   "name": "python3"
  },
  "language_info": {
   "codemirror_mode": {
    "name": "ipython",
    "version": 3
   },
   "file_extension": ".py",
   "mimetype": "text/x-python",
   "name": "python",
   "nbconvert_exporter": "python",
   "pygments_lexer": "ipython3",
   "version": "3.7.7"
  }
 },
 "nbformat": 4,
 "nbformat_minor": 4
}
