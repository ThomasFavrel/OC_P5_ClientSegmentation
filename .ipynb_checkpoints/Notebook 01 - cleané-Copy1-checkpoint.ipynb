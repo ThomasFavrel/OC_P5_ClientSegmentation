{
 "cells": [
  {
   "cell_type": "markdown",
   "metadata": {},
   "source": [
    "# Segmentation de clients d'un site e-commerce"
   ]
  },
  {
   "cell_type": "markdown",
   "metadata": {},
   "source": [
    "Sommaire"
   ]
  },
  {
   "cell_type": "markdown",
   "metadata": {},
   "source": [
    "## 0. Mise en place\n",
    "* Imports des librairies\n",
    "* Import du jeux de données"
   ]
  },
  {
   "cell_type": "markdown",
   "metadata": {},
   "source": [
    "### 0.1 Import des librairies"
   ]
  },
  {
   "cell_type": "code",
   "execution_count": 32,
   "metadata": {},
   "outputs": [],
   "source": [
    "import numpy as np\n",
    "import pandas as pd\n",
    "import plotly.express as px\n",
    "import matplotlib.pyplot as plt\n",
    "import seaborn as sns\n",
    "sns.set()\n",
    "from sklearn.feature_extraction import FeatureHasher\n",
    "import p5Lib"
   ]
  },
  {
   "cell_type": "code",
   "execution_count": 2,
   "metadata": {},
   "outputs": [],
   "source": [
    "def show_values_on_bars(axs, vertical=True, space=0.4):\n",
    "    \"\"\"\n",
    "    Affiche les valeurs d'un barplot.\n",
    "    \"\"\"\n",
    "    def _show_on_single_plot(ax):\n",
    "        if vertical == True:\n",
    "            for p in ax.patches:\n",
    "                _x = p.get_x() + p.get_width() / 2\n",
    "                _y = p.get_y() + p.get_height() + space\n",
    "                value = int(p.get_height())\n",
    "                ax.text(_x, _y, value, ha=\"center\") \n",
    "        elif vertical == False:\n",
    "            for p in ax.patches:\n",
    "                _x = p.get_x() + p.get_width() + space\n",
    "                _y = p.get_y() + p.get_height() / 2\n",
    "                value = int(p.get_width())\n",
    "                ax.text(_x, _y, value, ha=\"left\")\n",
    "\n",
    "    if isinstance(axs, np.ndarray):\n",
    "        for idx, ax in np.ndenumerate(axs):\n",
    "            _show_on_single_plot(ax)\n",
    "    else:\n",
    "        _show_on_single_plot(axs)\n",
    "        \n",
    "def display_filling_of_col(df, line=0, color='#3556C8', figsize=(8, 5), show_values=False):\n",
    "    df_tmp = pd.DataFrame()\n",
    "    for col in df.columns:\n",
    "        df_tmp[col] = pd.Series(df[col].count())\n",
    "    x = list(df_tmp.T.sort_values(by=0, ascending=False)[0] / df.shape[0] * 100)\n",
    "    y = list(df_tmp.T.sort_values(by=0, ascending=False).index)\n",
    "    fig, ax = plt.subplots(figsize=figsize)\n",
    "    if line == 0:\n",
    "        sns.barplot(x=x, \n",
    "                    y=y,\n",
    "                   orient='h', color=color)\n",
    "    else:\n",
    "        sns.barplot(x=x[:line], \n",
    "                    y=y[:line],\n",
    "                   orient='h', color=color)\n",
    "    if show_values == True:\n",
    "        show_values_on_bars(ax, vertical=False)\n",
    "        \n",
    "def display_cate_bar(data, var, show_values=True, figsize=(5,5), color='b'):\n",
    "    value_cont = pd.DataFrame.from_dict(dict(data[var].value_counts())\n",
    "                                    ,orient='index')\n",
    "    fig, ax = plt.subplots(figsize=figsize)\n",
    "    sns.barplot(x=value_cont[0],\n",
    "       y=value_cont.index,\n",
    "       color=color,\n",
    "       orient='h')\n",
    "    if show_values:\n",
    "        show_values_on_bars(ax, vertical=False)"
   ]
  },
  {
   "cell_type": "markdown",
   "metadata": {},
   "source": [
    "### 0.2 Import des données"
   ]
  },
  {
   "cell_type": "code",
   "execution_count": 3,
   "metadata": {},
   "outputs": [],
   "source": [
    "path = r'Data\\\\'"
   ]
  },
  {
   "cell_type": "code",
   "execution_count": 4,
   "metadata": {},
   "outputs": [],
   "source": [
    "customers = pd.read_csv(path + 'olist_customers_dataset.csv')\n",
    "geolocation = pd.read_csv(path + 'olist_geolocation_dataset.csv')\n",
    "order_items = pd.read_csv(path + 'olist_order_items_dataset.csv')\n",
    "order_payments = pd.read_csv(path + 'olist_order_payments_dataset.csv')\n",
    "order_reviews = pd.read_csv(path + 'olist_order_reviews_dataset.csv')\n",
    "orders = pd.read_csv(path + 'olist_orders_dataset.csv')\n",
    "products = pd.read_csv(path + 'olist_products_dataset.csv')\n",
    "sellers = pd.read_csv(path + 'olist_sellers_dataset.csv')\n",
    "product_category_name_translation = pd.read_csv(path + 'product_category_name_translation.csv')"
   ]
  },
  {
   "cell_type": "markdown",
   "metadata": {},
   "source": [
    "![img](https://i.imgur.com/HRhd2Y0.png)"
   ]
  },
  {
   "cell_type": "code",
   "execution_count": 5,
   "metadata": {},
   "outputs": [
    {
     "data": {
      "text/html": [
       "<style  type=\"text/css\" >\n",
       "#T_6e75a5be_84a4_11eb_813f_18c04d346976row0_col1,#T_6e75a5be_84a4_11eb_813f_18c04d346976row2_col1,#T_6e75a5be_84a4_11eb_813f_18c04d346976row4_col1,#T_6e75a5be_84a4_11eb_813f_18c04d346976row5_col1{\n",
       "            background-color:  #f0eaf4;\n",
       "            color:  #000000;\n",
       "        }#T_6e75a5be_84a4_11eb_813f_18c04d346976row0_col2,#T_6e75a5be_84a4_11eb_813f_18c04d346976row1_col2,#T_6e75a5be_84a4_11eb_813f_18c04d346976row4_col2{\n",
       "            background-color:  #91b5d6;\n",
       "            color:  #000000;\n",
       "        }#T_6e75a5be_84a4_11eb_813f_18c04d346976row0_col3,#T_6e75a5be_84a4_11eb_813f_18c04d346976row0_col4,#T_6e75a5be_84a4_11eb_813f_18c04d346976row1_col3,#T_6e75a5be_84a4_11eb_813f_18c04d346976row1_col4,#T_6e75a5be_84a4_11eb_813f_18c04d346976row3_col3,#T_6e75a5be_84a4_11eb_813f_18c04d346976row3_col4,#T_6e75a5be_84a4_11eb_813f_18c04d346976row4_col3,#T_6e75a5be_84a4_11eb_813f_18c04d346976row4_col4,#T_6e75a5be_84a4_11eb_813f_18c04d346976row7_col1,#T_6e75a5be_84a4_11eb_813f_18c04d346976row7_col3,#T_6e75a5be_84a4_11eb_813f_18c04d346976row7_col4,#T_6e75a5be_84a4_11eb_813f_18c04d346976row8_col1,#T_6e75a5be_84a4_11eb_813f_18c04d346976row8_col2,#T_6e75a5be_84a4_11eb_813f_18c04d346976row8_col3,#T_6e75a5be_84a4_11eb_813f_18c04d346976row8_col4{\n",
       "            background-color:  #fff7fb;\n",
       "            color:  #000000;\n",
       "        }#T_6e75a5be_84a4_11eb_813f_18c04d346976row1_col1,#T_6e75a5be_84a4_11eb_813f_18c04d346976row5_col3,#T_6e75a5be_84a4_11eb_813f_18c04d346976row6_col2,#T_6e75a5be_84a4_11eb_813f_18c04d346976row6_col4{\n",
       "            background-color:  #023858;\n",
       "            color:  #f1f1f1;\n",
       "        }#T_6e75a5be_84a4_11eb_813f_18c04d346976row2_col2{\n",
       "            background-color:  #045d92;\n",
       "            color:  #f1f1f1;\n",
       "        }#T_6e75a5be_84a4_11eb_813f_18c04d346976row2_col3,#T_6e75a5be_84a4_11eb_813f_18c04d346976row6_col1{\n",
       "            background-color:  #faf3f9;\n",
       "            color:  #000000;\n",
       "        }#T_6e75a5be_84a4_11eb_813f_18c04d346976row2_col4{\n",
       "            background-color:  #a5bddb;\n",
       "            color:  #000000;\n",
       "        }#T_6e75a5be_84a4_11eb_813f_18c04d346976row3_col1{\n",
       "            background-color:  #eee9f3;\n",
       "            color:  #000000;\n",
       "        }#T_6e75a5be_84a4_11eb_813f_18c04d346976row3_col2,#T_6e75a5be_84a4_11eb_813f_18c04d346976row5_col2{\n",
       "            background-color:  #1379b5;\n",
       "            color:  #f1f1f1;\n",
       "        }#T_6e75a5be_84a4_11eb_813f_18c04d346976row5_col4{\n",
       "            background-color:  #d0d1e6;\n",
       "            color:  #000000;\n",
       "        }#T_6e75a5be_84a4_11eb_813f_18c04d346976row6_col3{\n",
       "            background-color:  #fdf5fa;\n",
       "            color:  #000000;\n",
       "        }#T_6e75a5be_84a4_11eb_813f_18c04d346976row7_col2{\n",
       "            background-color:  #c4cbe3;\n",
       "            color:  #000000;\n",
       "        }</style><table id=\"T_6e75a5be_84a4_11eb_813f_18c04d346976\" ><thead>    <tr>        <th class=\"blank level0\" ></th>        <th class=\"col_heading level0 col0\" >dataset</th>        <th class=\"col_heading level0 col1\" >n_rows</th>        <th class=\"col_heading level0 col2\" >n_cols</th>        <th class=\"col_heading level0 col3\" >null_amount</th>        <th class=\"col_heading level0 col4\" >qty_null_columns</th>        <th class=\"col_heading level0 col5\" >null_columns</th>    </tr></thead><tbody>\n",
       "                <tr>\n",
       "                        <th id=\"T_6e75a5be_84a4_11eb_813f_18c04d346976level0_row0\" class=\"row_heading level0 row0\" >0</th>\n",
       "                        <td id=\"T_6e75a5be_84a4_11eb_813f_18c04d346976row0_col0\" class=\"data row0 col0\" >customer</td>\n",
       "                        <td id=\"T_6e75a5be_84a4_11eb_813f_18c04d346976row0_col1\" class=\"data row0 col1\" >99441</td>\n",
       "                        <td id=\"T_6e75a5be_84a4_11eb_813f_18c04d346976row0_col2\" class=\"data row0 col2\" >5</td>\n",
       "                        <td id=\"T_6e75a5be_84a4_11eb_813f_18c04d346976row0_col3\" class=\"data row0 col3\" >0</td>\n",
       "                        <td id=\"T_6e75a5be_84a4_11eb_813f_18c04d346976row0_col4\" class=\"data row0 col4\" >0</td>\n",
       "                        <td id=\"T_6e75a5be_84a4_11eb_813f_18c04d346976row0_col5\" class=\"data row0 col5\" ></td>\n",
       "            </tr>\n",
       "            <tr>\n",
       "                        <th id=\"T_6e75a5be_84a4_11eb_813f_18c04d346976level0_row1\" class=\"row_heading level0 row1\" >1</th>\n",
       "                        <td id=\"T_6e75a5be_84a4_11eb_813f_18c04d346976row1_col0\" class=\"data row1 col0\" >geolocation</td>\n",
       "                        <td id=\"T_6e75a5be_84a4_11eb_813f_18c04d346976row1_col1\" class=\"data row1 col1\" >1000163</td>\n",
       "                        <td id=\"T_6e75a5be_84a4_11eb_813f_18c04d346976row1_col2\" class=\"data row1 col2\" >5</td>\n",
       "                        <td id=\"T_6e75a5be_84a4_11eb_813f_18c04d346976row1_col3\" class=\"data row1 col3\" >0</td>\n",
       "                        <td id=\"T_6e75a5be_84a4_11eb_813f_18c04d346976row1_col4\" class=\"data row1 col4\" >0</td>\n",
       "                        <td id=\"T_6e75a5be_84a4_11eb_813f_18c04d346976row1_col5\" class=\"data row1 col5\" ></td>\n",
       "            </tr>\n",
       "            <tr>\n",
       "                        <th id=\"T_6e75a5be_84a4_11eb_813f_18c04d346976level0_row2\" class=\"row_heading level0 row2\" >2</th>\n",
       "                        <td id=\"T_6e75a5be_84a4_11eb_813f_18c04d346976row2_col0\" class=\"data row2 col0\" >orders</td>\n",
       "                        <td id=\"T_6e75a5be_84a4_11eb_813f_18c04d346976row2_col1\" class=\"data row2 col1\" >99441</td>\n",
       "                        <td id=\"T_6e75a5be_84a4_11eb_813f_18c04d346976row2_col2\" class=\"data row2 col2\" >8</td>\n",
       "                        <td id=\"T_6e75a5be_84a4_11eb_813f_18c04d346976row2_col3\" class=\"data row2 col3\" >4908</td>\n",
       "                        <td id=\"T_6e75a5be_84a4_11eb_813f_18c04d346976row2_col4\" class=\"data row2 col4\" >3</td>\n",
       "                        <td id=\"T_6e75a5be_84a4_11eb_813f_18c04d346976row2_col5\" class=\"data row2 col5\" >order_approved_at, order_delivered_carrier_date, order_delivered_customer_date</td>\n",
       "            </tr>\n",
       "            <tr>\n",
       "                        <th id=\"T_6e75a5be_84a4_11eb_813f_18c04d346976level0_row3\" class=\"row_heading level0 row3\" >3</th>\n",
       "                        <td id=\"T_6e75a5be_84a4_11eb_813f_18c04d346976row3_col0\" class=\"data row3 col0\" >order_items</td>\n",
       "                        <td id=\"T_6e75a5be_84a4_11eb_813f_18c04d346976row3_col1\" class=\"data row3 col1\" >112650</td>\n",
       "                        <td id=\"T_6e75a5be_84a4_11eb_813f_18c04d346976row3_col2\" class=\"data row3 col2\" >7</td>\n",
       "                        <td id=\"T_6e75a5be_84a4_11eb_813f_18c04d346976row3_col3\" class=\"data row3 col3\" >0</td>\n",
       "                        <td id=\"T_6e75a5be_84a4_11eb_813f_18c04d346976row3_col4\" class=\"data row3 col4\" >0</td>\n",
       "                        <td id=\"T_6e75a5be_84a4_11eb_813f_18c04d346976row3_col5\" class=\"data row3 col5\" ></td>\n",
       "            </tr>\n",
       "            <tr>\n",
       "                        <th id=\"T_6e75a5be_84a4_11eb_813f_18c04d346976level0_row4\" class=\"row_heading level0 row4\" >4</th>\n",
       "                        <td id=\"T_6e75a5be_84a4_11eb_813f_18c04d346976row4_col0\" class=\"data row4 col0\" >order_payments</td>\n",
       "                        <td id=\"T_6e75a5be_84a4_11eb_813f_18c04d346976row4_col1\" class=\"data row4 col1\" >103886</td>\n",
       "                        <td id=\"T_6e75a5be_84a4_11eb_813f_18c04d346976row4_col2\" class=\"data row4 col2\" >5</td>\n",
       "                        <td id=\"T_6e75a5be_84a4_11eb_813f_18c04d346976row4_col3\" class=\"data row4 col3\" >0</td>\n",
       "                        <td id=\"T_6e75a5be_84a4_11eb_813f_18c04d346976row4_col4\" class=\"data row4 col4\" >0</td>\n",
       "                        <td id=\"T_6e75a5be_84a4_11eb_813f_18c04d346976row4_col5\" class=\"data row4 col5\" ></td>\n",
       "            </tr>\n",
       "            <tr>\n",
       "                        <th id=\"T_6e75a5be_84a4_11eb_813f_18c04d346976level0_row5\" class=\"row_heading level0 row5\" >5</th>\n",
       "                        <td id=\"T_6e75a5be_84a4_11eb_813f_18c04d346976row5_col0\" class=\"data row5 col0\" >order_reviews</td>\n",
       "                        <td id=\"T_6e75a5be_84a4_11eb_813f_18c04d346976row5_col1\" class=\"data row5 col1\" >100000</td>\n",
       "                        <td id=\"T_6e75a5be_84a4_11eb_813f_18c04d346976row5_col2\" class=\"data row5 col2\" >7</td>\n",
       "                        <td id=\"T_6e75a5be_84a4_11eb_813f_18c04d346976row5_col3\" class=\"data row5 col3\" >146532</td>\n",
       "                        <td id=\"T_6e75a5be_84a4_11eb_813f_18c04d346976row5_col4\" class=\"data row5 col4\" >2</td>\n",
       "                        <td id=\"T_6e75a5be_84a4_11eb_813f_18c04d346976row5_col5\" class=\"data row5 col5\" >review_comment_title, review_comment_message</td>\n",
       "            </tr>\n",
       "            <tr>\n",
       "                        <th id=\"T_6e75a5be_84a4_11eb_813f_18c04d346976level0_row6\" class=\"row_heading level0 row6\" >6</th>\n",
       "                        <td id=\"T_6e75a5be_84a4_11eb_813f_18c04d346976row6_col0\" class=\"data row6 col0\" >products</td>\n",
       "                        <td id=\"T_6e75a5be_84a4_11eb_813f_18c04d346976row6_col1\" class=\"data row6 col1\" >32951</td>\n",
       "                        <td id=\"T_6e75a5be_84a4_11eb_813f_18c04d346976row6_col2\" class=\"data row6 col2\" >9</td>\n",
       "                        <td id=\"T_6e75a5be_84a4_11eb_813f_18c04d346976row6_col3\" class=\"data row6 col3\" >2448</td>\n",
       "                        <td id=\"T_6e75a5be_84a4_11eb_813f_18c04d346976row6_col4\" class=\"data row6 col4\" >8</td>\n",
       "                        <td id=\"T_6e75a5be_84a4_11eb_813f_18c04d346976row6_col5\" class=\"data row6 col5\" >product_category_name, product_name_lenght, product_description_lenght, product_photos_qty, product_weight_g, product_length_cm, product_height_cm, product_width_cm</td>\n",
       "            </tr>\n",
       "            <tr>\n",
       "                        <th id=\"T_6e75a5be_84a4_11eb_813f_18c04d346976level0_row7\" class=\"row_heading level0 row7\" >7</th>\n",
       "                        <td id=\"T_6e75a5be_84a4_11eb_813f_18c04d346976row7_col0\" class=\"data row7 col0\" >sellers</td>\n",
       "                        <td id=\"T_6e75a5be_84a4_11eb_813f_18c04d346976row7_col1\" class=\"data row7 col1\" >3095</td>\n",
       "                        <td id=\"T_6e75a5be_84a4_11eb_813f_18c04d346976row7_col2\" class=\"data row7 col2\" >4</td>\n",
       "                        <td id=\"T_6e75a5be_84a4_11eb_813f_18c04d346976row7_col3\" class=\"data row7 col3\" >0</td>\n",
       "                        <td id=\"T_6e75a5be_84a4_11eb_813f_18c04d346976row7_col4\" class=\"data row7 col4\" >0</td>\n",
       "                        <td id=\"T_6e75a5be_84a4_11eb_813f_18c04d346976row7_col5\" class=\"data row7 col5\" ></td>\n",
       "            </tr>\n",
       "            <tr>\n",
       "                        <th id=\"T_6e75a5be_84a4_11eb_813f_18c04d346976level0_row8\" class=\"row_heading level0 row8\" >8</th>\n",
       "                        <td id=\"T_6e75a5be_84a4_11eb_813f_18c04d346976row8_col0\" class=\"data row8 col0\" >product_category_name_translation</td>\n",
       "                        <td id=\"T_6e75a5be_84a4_11eb_813f_18c04d346976row8_col1\" class=\"data row8 col1\" >71</td>\n",
       "                        <td id=\"T_6e75a5be_84a4_11eb_813f_18c04d346976row8_col2\" class=\"data row8 col2\" >2</td>\n",
       "                        <td id=\"T_6e75a5be_84a4_11eb_813f_18c04d346976row8_col3\" class=\"data row8 col3\" >0</td>\n",
       "                        <td id=\"T_6e75a5be_84a4_11eb_813f_18c04d346976row8_col4\" class=\"data row8 col4\" >0</td>\n",
       "                        <td id=\"T_6e75a5be_84a4_11eb_813f_18c04d346976row8_col5\" class=\"data row8 col5\" ></td>\n",
       "            </tr>\n",
       "    </tbody></table>"
      ],
      "text/plain": [
       "<pandas.io.formats.style.Styler at 0x20d171c01f0>"
      ]
     },
     "execution_count": 5,
     "metadata": {},
     "output_type": "execute_result"
    }
   ],
   "source": [
    "# Collections for each dataset\n",
    "datasets = [customers, geolocation, orders, order_items, order_payments,\n",
    "            order_reviews, products, sellers, product_category_name_translation]\n",
    "names = ['customer', 'geolocation', 'orders', 'order_items', 'order_payments',\n",
    "         'order_reviews', 'products', 'sellers', 'product_category_name_translation']\n",
    "\n",
    "# Creating a DataFrame with useful information about all datasets\n",
    "data_info = pd.DataFrame({})\n",
    "data_info['dataset'] = names\n",
    "data_info['n_rows'] = [df.shape[0] for df in datasets]\n",
    "data_info['n_cols'] = [df.shape[1] for df in datasets]\n",
    "data_info['null_amount'] = [df.isnull().sum().sum() for df in datasets]\n",
    "data_info['qty_null_columns'] = [len([col for col, null in df.isnull().sum().items() if null > 0]) for df in datasets]\n",
    "data_info['null_columns'] = [', '.join([col for col, null in df.isnull().sum().items() if null > 0]) for df in datasets]\n",
    "\n",
    "data_info.style.background_gradient()"
   ]
  },
  {
   "cell_type": "markdown",
   "metadata": {},
   "source": [
    "### 0.3 Assemblage du jeux de données\n",
    "Jointure des différents dataset pour en avoir un unique"
   ]
  },
  {
   "cell_type": "code",
   "execution_count": 6,
   "metadata": {},
   "outputs": [],
   "source": [
    "# Product information\n",
    "\n",
    "full_products = order_items.join(products.set_index(\"product_id\"),\n",
    "                                 on=\"product_id\")\\\n",
    "                           .join(sellers.set_index(\"seller_id\"),\n",
    "                                 on=\"seller_id\")"
   ]
  },
  {
   "cell_type": "code",
   "execution_count": 7,
   "metadata": {},
   "outputs": [],
   "source": [
    "# Order information\n",
    "\n",
    "full_orders = orders.join(order_reviews.set_index(\"order_id\"),\n",
    "                          on='order_id')\\\n",
    "                    .join(order_payments.set_index(\"order_id\"),\n",
    "                          on='order_id')\\\n",
    "                    .join(full_products.set_index(\"order_id\"),\n",
    "                          on='order_id')"
   ]
  },
  {
   "cell_type": "code",
   "execution_count": 20,
   "metadata": {},
   "outputs": [],
   "source": [
    "# Full data set with orders, products and clients\n",
    "\n",
    "full_dataset = full_orders.join(customers.set_index(\"customer_id\"),\n",
    "                                on=\"customer_id\")"
   ]
  },
  {
   "cell_type": "code",
   "execution_count": 21,
   "metadata": {},
   "outputs": [
    {
     "data": {
      "text/plain": [
       "(119151, 39)"
      ]
     },
     "execution_count": 21,
     "metadata": {},
     "output_type": "execute_result"
    }
   ],
   "source": [
    "full_dataset.shape"
   ]
  },
  {
   "cell_type": "code",
   "execution_count": 22,
   "metadata": {},
   "outputs": [
    {
     "data": {
      "image/png": "[encoded data removed]",
      "text/plain": [
       "<Figure size 576x864 with 1 Axes>"
      ]
     },
     "metadata": {},
     "output_type": "display_data"
    }
   ],
   "source": [
    "display_filling_of_col(full_dataset, show_values=True, figsize=(8, 12))"
   ]
  },
  {
   "cell_type": "markdown",
   "metadata": {},
   "source": [
    "Le dataset est majoritairement très bien rempli.  \n",
    "Il semblerait que les données manquantes des de review_comment provienne de consommateur n'ayant pas mis de message.  \n",
    "Mais on note que la colonne review_score est complète à 100%."
   ]
  },
  {
   "cell_type": "markdown",
   "metadata": {},
   "source": [
    "## 1. NETTOYAGE"
   ]
  },
  {
   "cell_type": "markdown",
   "metadata": {},
   "source": [
    "### 1.1 Conversion des dates"
   ]
  },
  {
   "cell_type": "markdown",
   "metadata": {},
   "source": [
    "Pour réduire l'utilisation de la mémoire et pour faciliter l'utilisation des dates, nous convertisons les deonnées temporelle en 'datetime'."
   ]
  },
  {
   "cell_type": "code",
   "execution_count": 23,
   "metadata": {},
   "outputs": [],
   "source": [
    "# Converting to datetime\n",
    "\n",
    "cols_to_timestamp = [\"order_approved_at\",\n",
    "                     \"order_delivered_carrier_date\",\n",
    "                     \"order_delivered_customer_date\",\n",
    "                     \"order_estimated_delivery_date\",\n",
    "                     \"order_purchase_timestamp\",\n",
    "                     \"review_answer_timestamp\",\n",
    "                     \"review_creation_date\",\n",
    "                     \"shipping_limit_date\"]\n",
    "\n",
    "for col in cols_to_timestamp:\n",
    "    full_dataset[col] = pd.to_datetime(full_dataset[col],\n",
    "                                       format='%Y-%m-%d %H:%M:%S')"
   ]
  },
  {
   "cell_type": "code",
   "execution_count": 24,
   "metadata": {},
   "outputs": [],
   "source": [
    "# Converting to string\n",
    "\n",
    "full_dataset[\"seller_zip_code_prefix\"] = full_dataset\\\n",
    "                                        .loc[:, \"seller_zip_code_prefix\"].astype(\"str\")\n",
    "full_dataset[\"customer_zip_code_prefix\"] = full_dataset[\"customer_zip_code_prefix\"]\\\n",
    "                                           .astype(str)"
   ]
  },
  {
   "cell_type": "markdown",
   "metadata": {},
   "source": [
    "### 1.2 Analyse des variables *customer_id* et *customer_unique_id*"
   ]
  },
  {
   "cell_type": "code",
   "execution_count": 25,
   "metadata": {},
   "outputs": [
    {
     "data": {
      "text/plain": [
       "count    99441.0\n",
       "mean         1.0\n",
       "std          0.0\n",
       "min          1.0\n",
       "25%          1.0\n",
       "50%          1.0\n",
       "75%          1.0\n",
       "max          1.0\n",
       "Name: customer_unique_id, dtype: float64"
      ]
     },
     "execution_count": 25,
     "metadata": {},
     "output_type": "execute_result"
    }
   ],
   "source": [
    "# Getting the maximum number of 'customer_unique_id'\n",
    "# associated to a single 'customer_id'\n",
    "full_dataset\\\n",
    "    .groupby(by='customer_id')['customer_unique_id']\\\n",
    "    .nunique()\\\n",
    "    .describe()"
   ]
  },
  {
   "cell_type": "code",
   "execution_count": 26,
   "metadata": {},
   "outputs": [
    {
     "data": {
      "text/plain": [
       "count    96096.000000\n",
       "mean         1.034809\n",
       "std          0.214384\n",
       "min          1.000000\n",
       "25%          1.000000\n",
       "50%          1.000000\n",
       "75%          1.000000\n",
       "max         17.000000\n",
       "Name: customer_id, dtype: float64"
      ]
     },
     "execution_count": 26,
     "metadata": {},
     "output_type": "execute_result"
    }
   ],
   "source": [
    "# Getting the maximum number of 'customer_id'\n",
    "# associated to a single 'customer_unique_id'\n",
    "full_dataset\\\n",
    "    .groupby(by='customer_unique_id')['customer_id']\\\n",
    "    .nunique()\\\n",
    "    .describe()"
   ]
  },
  {
   "cell_type": "markdown",
   "metadata": {},
   "source": [
    "L'identifiant *customer_unique_id* peut avoir jusqu'à 17 *customer_id* différent.  \n",
    "Il à donc l'air plus spécifique."
   ]
  },
  {
   "cell_type": "markdown",
   "metadata": {},
   "source": [
    "### 1.3 Affinement des types de données"
   ]
  },
  {
   "cell_type": "code",
   "execution_count": 27,
   "metadata": {},
   "outputs": [
    {
     "name": "stdout",
     "output_type": "stream",
     "text": [
      "Column review_score downcasted from int64 to int8.\n",
      "Column payment_sequential downcasted from float64 to float32.\n",
      "Column payment_installments downcasted from float64 to float32.\n",
      "Column payment_value downcasted from float64 to float32.\n",
      "Column order_item_id downcasted from float64 to float32.\n",
      "Column price downcasted from float64 to float32.\n",
      "Column freight_value downcasted from float64 to float32.\n",
      "Column product_name_lenght downcasted from float64 to float32.\n",
      "Column product_description_lenght downcasted from float64 to float32.\n",
      "Column product_photos_qty downcasted from float64 to float32.\n",
      "Column product_weight_g downcasted from float64 to float32.\n",
      "Column product_length_cm downcasted from float64 to float32.\n",
      "Column product_height_cm downcasted from float64 to float32.\n",
      "Column product_width_cm downcasted from float64 to float32.\n"
     ]
    }
   ],
   "source": [
    "downcast(full_dataset);"
   ]
  },
  {
   "cell_type": "markdown",
   "metadata": {},
   "source": [
    "### 1.4 Gestion des lignes dupliquées"
   ]
  },
  {
   "cell_type": "code",
   "execution_count": 29,
   "metadata": {},
   "outputs": [
    {
     "name": "stdout",
     "output_type": "stream",
     "text": [
      "Number of dropped duplicated rows: 0\n",
      "Number of remaining rows: 119151\n"
     ]
    }
   ],
   "source": [
    "nb_rows_before_dropping_duplicates = len(full_dataset)\n",
    "full_dataset = full_dataset.drop_duplicates()\n",
    "\n",
    "print(\"Number of dropped duplicated rows:\",\n",
    "      nb_rows_before_dropping_duplicates - len(full_dataset))\n",
    "print(\"Number of remaining rows:\", len(full_dataset))"
   ]
  },
  {
   "cell_type": "markdown",
   "metadata": {},
   "source": [
    "### 1.5 Gestion des valeurs manquantes"
   ]
  },
  {
   "cell_type": "code",
   "execution_count": 36,
   "metadata": {},
   "outputs": [],
   "source": [
    "import importlib\n",
    "importlib.reload(p5Lib);"
   ]
  },
  {
   "cell_type": "code",
   "execution_count": 38,
   "metadata": {},
   "outputs": [
    {
     "name": "stdout",
     "output_type": "stream",
     "text": [
      "Number of rows with a filling rate below 80.00%: 865 rows.\n"
     ]
    }
   ],
   "source": [
    "full_dataset = p5Lib.fillingrate_filter_rows(full_dataset, 0.8)"
   ]
  },
  {
   "cell_type": "markdown",
   "metadata": {},
   "source": [
    "### 1.5 Suppression des outliers"
   ]
  },
  {
   "cell_type": "code",
   "execution_count": 13,
   "metadata": {},
   "outputs": [
    {
     "name": "stdout",
     "output_type": "stream",
     "text": [
      "Avant : 119151\n",
      "Nb supprimé : 861 | 0.72 %\n",
      "Apres : 118290\n"
     ]
    }
   ],
   "source": [
    "# Deleting products that have a weight <= 0\n",
    "\n",
    "print(f\"Avant : {full_dataset.shape[0]}\\n\\\n",
    "Nb supprimé : {full_dataset.shape[0] - full_dataset[full_dataset['product_weight_g'] > 0].shape[0]} \\\n",
    "| {(full_dataset.shape[0] - full_dataset[full_dataset['product_weight_g'] > 0].shape[0]) / full_dataset.shape[0] * 100:.2f} %\")\n",
    "full_dataset = full_dataset[full_dataset[\"product_weight_g\"] > 0]\n",
    "print(f\"Apres : {full_dataset.shape[0]}\")"
   ]
  },
  {
   "cell_type": "code",
   "execution_count": 14,
   "metadata": {},
   "outputs": [],
   "source": [
    "# Deleting canceled orders that are marked as delivered\n",
    "\n",
    "full_dataset = full_dataset[~((full_dataset['order_status'] == 'canceled') & (full_dataset[\"order_delivered_customer_date\"].notnull()))]"
   ]
  },
  {
   "cell_type": "code",
   "execution_count": 15,
   "metadata": {},
   "outputs": [],
   "source": [
    "# Deleting orders with incoherent event flow :\n",
    "# 1) order_approved_at < order_delivered_carrier_date < order_delivered_customer_date \n",
    "#    < review_creation_date < review_answer_timestamp\n",
    "# 2) order_approved_at < shipping_limit_date"
   ]
  },
  {
   "cell_type": "code",
   "execution_count": 16,
   "metadata": {},
   "outputs": [],
   "source": [
    "# Deleting orders where order_approved_at < order_delivered_carrier_date\n",
    "\n",
    "full_dataset = full_dataset[~(full_dataset[\"order_approved_at\"] \\\n",
    "                              > \\\n",
    "                              full_dataset[\"order_delivered_carrier_date\"])]"
   ]
  },
  {
   "cell_type": "code",
   "execution_count": 17,
   "metadata": {},
   "outputs": [],
   "source": [
    "# Deleting orders where order_approved_at < order_delivered_customer_date\n",
    "\n",
    "full_dataset = full_dataset[~(full_dataset[\"order_approved_at\"] \\\n",
    "                              > \\\n",
    "                              full_dataset[\"order_delivered_customer_date\"])]"
   ]
  },
  {
   "cell_type": "code",
   "execution_count": 18,
   "metadata": {},
   "outputs": [],
   "source": [
    "# Deleting orders where order_approved_at < review_creation_date\n",
    "\n",
    "full_dataset = full_dataset[~(full_dataset[\"order_approved_at\"] \\\n",
    "                              > \\\n",
    "                              full_dataset[\"review_creation_date\"])]"
   ]
  },
  {
   "cell_type": "code",
   "execution_count": 19,
   "metadata": {},
   "outputs": [],
   "source": [
    "# Deleting orders where order_approved_at < review_answer_timestamp\n",
    "\n",
    "full_dataset = full_dataset[~(full_dataset[\"order_approved_at\"] \\\n",
    "                             > \\\n",
    "                             full_dataset[\"review_answer_timestamp\"])]"
   ]
  },
  {
   "cell_type": "code",
   "execution_count": 20,
   "metadata": {},
   "outputs": [],
   "source": [
    "# Deleting orders where order_approved_at < shipping_limit_date\n",
    "\n",
    "full_dataset = full_dataset[~(full_dataset[\"order_approved_at\"] \\\n",
    "                              > \\\n",
    "                              full_dataset[\"shipping_limit_date\"])]"
   ]
  },
  {
   "cell_type": "markdown",
   "metadata": {},
   "source": [
    "_order_delivered_carrierdate"
   ]
  },
  {
   "cell_type": "code",
   "execution_count": 21,
   "metadata": {},
   "outputs": [],
   "source": [
    "# Deleting orders where order_delivered_carrier_date < order_delivered_customer_date\n",
    "\n",
    "full_dataset = full_dataset[~(full_dataset[\"order_delivered_carrier_date\"] \\\n",
    "                              > \\\n",
    "                              full_dataset[\"order_delivered_customer_date\"])]"
   ]
  },
  {
   "cell_type": "code",
   "execution_count": 22,
   "metadata": {},
   "outputs": [],
   "source": [
    "# Deleting orders where order_delivered_carrier_date < review_creation_date\n",
    "\n",
    "full_dataset = full_dataset[~(full_dataset[\"order_delivered_carrier_date\"] \\\n",
    "                              > \\\n",
    "                              full_dataset[\"review_creation_date\"])]"
   ]
  },
  {
   "cell_type": "markdown",
   "metadata": {},
   "source": [
    "_order_delivered_customerdate"
   ]
  },
  {
   "cell_type": "code",
   "execution_count": 23,
   "metadata": {},
   "outputs": [],
   "source": [
    "# Deleting orders where order_delivered_customer_date < review_creation_date\n",
    "\n",
    "full_dataset = full_dataset[~(full_dataset[\"order_delivered_customer_date\"]\\\n",
    "                              >\\\n",
    "                              full_dataset[\"review_creation_date\"])]"
   ]
  },
  {
   "cell_type": "code",
   "execution_count": 24,
   "metadata": {},
   "outputs": [],
   "source": [
    "# Deleting orders where order_delivered_customer_date < review_answer_timestamp\n",
    "\n",
    "full_dataset = full_dataset[~(full_dataset[\"order_delivered_customer_date\"] \\\n",
    "                              > \\\n",
    "                              full_dataset[\"review_answer_timestamp\"])]"
   ]
  },
  {
   "cell_type": "markdown",
   "metadata": {},
   "source": [
    "_review_creationdate"
   ]
  },
  {
   "cell_type": "code",
   "execution_count": 25,
   "metadata": {},
   "outputs": [],
   "source": [
    "# Deleting orders where review_creation_date < review_answer_timestamp\n",
    "\n",
    "full_dataset = full_dataset[~(full_dataset[\"review_creation_date\"] \\\n",
    "                              > \\\n",
    "                              full_dataset[\"review_answer_timestamp\"])]"
   ]
  },
  {
   "cell_type": "code",
   "execution_count": 26,
   "metadata": {},
   "outputs": [
    {
     "name": "stdout",
     "output_type": "stream",
     "text": [
      "Lignes supprimés : 11315 | 9.57 %\n",
      "Nb de lignes : 106975\n"
     ]
    }
   ],
   "source": [
    "print(f\"Lignes supprimés : {118290 - full_dataset.shape[0]} | \\\n",
    "{(118290 - full_dataset.shape[0]) / 118290 * 100:.2f} %\\n\\\n",
    "Nb de lignes : {full_dataset.shape[0]}\")"
   ]
  },
  {
   "cell_type": "markdown",
   "metadata": {},
   "source": [
    "### 1.5 Suppression des lignes totalement vide"
   ]
  },
  {
   "cell_type": "code",
   "execution_count": 27,
   "metadata": {},
   "outputs": [
    {
     "name": "stdout",
     "output_type": "stream",
     "text": [
      "Lignes entièrement vides : 0\n"
     ]
    }
   ],
   "source": [
    "print(f\"Lignes entièrement vides : {full_dataset.shape[0] - full_dataset.dropna(how='all', axis=1).shape[0]}\")"
   ]
  },
  {
   "cell_type": "markdown",
   "metadata": {},
   "source": [
    "## 2. Selection des données"
   ]
  },
  {
   "cell_type": "code",
   "execution_count": 28,
   "metadata": {},
   "outputs": [],
   "source": [
    "# Data since january 2017\n",
    "\n",
    "full_dataset = full_dataset[full_dataset[\"order_purchase_timestamp\"].dt.year > 2016]"
   ]
  },
  {
   "cell_type": "markdown",
   "metadata": {},
   "source": [
    "## 3. Feature Engineering"
   ]
  },
  {
   "cell_type": "markdown",
   "metadata": {},
   "source": [
    "Segmentation RMFP (Récence – Fréquence – Montant – Produit)  \n",
    "[Average online shopping value in Brazil from 2017 to 2020](https://www.statista.com/statistics/255337/average-b2c-e-commerce-sales-per-digital-buyer-in-brazil/)"
   ]
  },
  {
   "cell_type": "markdown",
   "metadata": {},
   "source": [
    "### 3.1 Feature creation"
   ]
  },
  {
   "cell_type": "code",
   "execution_count": 29,
   "metadata": {},
   "outputs": [],
   "source": [
    "# Average basket for e-commerce in Brazil\n",
    "\n",
    "AVERAGE_BASKET = {2017:417, 2018:420}"
   ]
  },
  {
   "cell_type": "code",
   "execution_count": null,
   "metadata": {},
   "outputs": [],
   "source": []
  }
 ],
 "metadata": {
  "kernelspec": {
   "display_name": "Python 3",
   "language": "python",
   "name": "python3"
  },
  "language_info": {
   "codemirror_mode": {
    "name": "ipython",
    "version": 3
   },
   "file_extension": ".py",
   "mimetype": "text/x-python",
   "name": "python",
   "nbconvert_exporter": "python",
   "pygments_lexer": "ipython3",
   "version": "3.8.5"
  }
 },
 "nbformat": 4,
 "nbformat_minor": 4
}
